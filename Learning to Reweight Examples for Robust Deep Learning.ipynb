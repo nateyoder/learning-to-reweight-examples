{
 "cells": [
  {
   "cell_type": "markdown",
   "metadata": {},
   "source": [
    "# Learning to Reweight Examples for Robust Deep Learning"
   ]
  },
  {
   "cell_type": "code",
   "execution_count": 1,
   "metadata": {
    "scrolled": true
   },
   "outputs": [
    {
     "data": {
      "text/html": [
       "\n",
       "        <div style=\"margin:10px\">\n",
       "            <a href=\"https://github.com/ibm-watson-data-lab/pixiedust\" target=\"_new\">\n",
       "                <img src=\"https://github.com/ibm-watson-data-lab/pixiedust/raw/master/docs/_static/pd_icon32.png\" style=\"float:left;margin-right:10px\"/>\n",
       "            </a>\n",
       "            <span>Pixiedust version 1.1.10</span>\n",
       "        </div>\n",
       "        "
      ],
      "text/plain": [
       "<IPython.core.display.HTML object>"
      ]
     },
     "metadata": {},
     "output_type": "execute_result"
    },
    {
     "name": "stdout",
     "output_type": "stream",
     "text": [
      "Pixiedust database opened successfully\n"
     ]
    }
   ],
   "source": [
    "import torch\n",
    "import torch.nn as nn\n",
    "import torch.nn.functional as F\n",
    "from torch.autograd import Variable\n",
    "from model import *\n",
    "from data_loader import *\n",
    "import matplotlib.pyplot as plt\n",
    "from tqdm import tqdm\n",
    "import IPython\n",
    "import gc\n",
    "import matplotlib\n",
    "matplotlib.rcParams.update({'errorbar.capsize': 5})\n",
    "import pixiedust\n",
    "\n",
    "%matplotlib inline\n",
    "%load_ext autoreload\n",
    "%autoreload 2"
   ]
  },
  {
   "cell_type": "code",
   "execution_count": 5,
   "metadata": {},
   "outputs": [],
   "source": [
    "hyperparameters = {\n",
    "    'lr' : 1e-2,\n",
    "    'momentum' : 0.9,\n",
    "    'batch_size' : 128,\n",
    "    'num_iterations' : 1000,\n",
    "}"
   ]
  },
  {
   "cell_type": "markdown",
   "metadata": {},
   "source": [
    "### Dataset\n",
    "Following the class imbalance experiment in the paper, we used numbers 9 and 4 of the MNIST dataset to form a highly imbalanced dataset where 9 is the dominating class. The test set on the other hand is balanced."
   ]
  },
  {
   "cell_type": "code",
   "execution_count": 6,
   "metadata": {},
   "outputs": [],
   "source": [
    "data_loader = get_mnist_loader(hyperparameters['batch_size'], classes=[9, 4], proportion=0.995, mode=\"train\")\n",
    "test_loader = get_mnist_loader(hyperparameters['batch_size'], classes=[9, 4], proportion=0.5, mode=\"test\")"
   ]
  },
  {
   "cell_type": "code",
   "execution_count": 7,
   "metadata": {},
   "outputs": [],
   "source": [
    "def to_var(x, requires_grad=True):\n",
    "    if torch.cuda.is_available():\n",
    "        x = x.cuda()\n",
    "    return Variable(x, requires_grad=requires_grad)"
   ]
  },
  {
   "cell_type": "markdown",
   "metadata": {},
   "source": [
    "#### Since the validation data is small (only 10 examples) there is no need to wrap it in a dataloader"
   ]
  },
  {
   "cell_type": "code",
   "execution_count": 8,
   "metadata": {},
   "outputs": [],
   "source": [
    "val_data = to_var(data_loader.dataset.data_val, requires_grad=False)\n",
    "val_labels = to_var(data_loader.dataset.labels_val, requires_grad=False)"
   ]
  },
  {
   "cell_type": "markdown",
   "metadata": {},
   "source": [
    "print one batch of data to see if the train data is really imbalanced and if the test data is balanced."
   ]
  },
  {
   "cell_type": "code",
   "execution_count": 9,
   "metadata": {
    "scrolled": true
   },
   "outputs": [
    {
     "name": "stdout",
     "output_type": "stream",
     "text": [
      "(torch.Size([128, 1, 32, 32]), tensor([ 1.,  1.,  1.,  1.,  1.,  1.,  1.,  1.,  1.,  1.,  1.,  1.,\n",
      "         1.,  1.,  1.,  1.,  1.,  1.,  1.,  1.,  1.,  1.,  1.,  1.,\n",
      "         1.,  1.,  1.,  1.,  1.,  1.,  1.,  1.,  1.,  1.,  1.,  1.,\n",
      "         1.,  1.,  1.,  1.,  1.,  1.,  1.,  1.,  1.,  1.,  1.,  1.,\n",
      "         1.,  1.,  1.,  1.,  1.,  1.,  1.,  1.,  1.,  1.,  1.,  1.,\n",
      "         1.,  1.,  1.,  1.,  1.,  1.,  1.,  1.,  1.,  1.,  1.,  1.,\n",
      "         1.,  1.,  1.,  1.,  1.,  1.,  1.,  1.,  1.,  1.,  1.,  1.,\n",
      "         1.,  1.,  1.,  1.,  1.,  1.,  1.,  1.,  1.,  1.,  1.,  1.,\n",
      "         1.,  1.,  1.,  1.,  1.,  1.,  1.,  1.,  1.,  1.,  1.,  1.,\n",
      "         1.,  1.,  1.,  1.,  1.,  1.,  1.,  1.,  1.,  1.,  1.,  1.,\n",
      "         1.,  1.,  1.,  1.,  1.,  1.,  1.,  1.]))\n"
     ]
    }
   ],
   "source": [
    "for i,(img, label) in enumerate(data_loader):\n",
    "    print(img.size(),label)\n",
    "    break"
   ]
  },
  {
   "cell_type": "code",
   "execution_count": 10,
   "metadata": {},
   "outputs": [
    {
     "name": "stdout",
     "output_type": "stream",
     "text": [
      "(torch.Size([128, 1, 32, 32]), tensor([ 0.,  0.,  0.,  0.,  0.,  1.,  1.,  1.,  1.,  0.,  0.,  0.,\n",
      "         1.,  0.,  0.,  0.,  1.,  1.,  0.,  1.,  0.,  0.,  0.,  1.,\n",
      "         0.,  1.,  1.,  0.,  0.,  1.,  1.,  1.,  1.,  1.,  1.,  0.,\n",
      "         0.,  1.,  1.,  0.,  0.,  1.,  1.,  1.,  0.,  1.,  1.,  1.,\n",
      "         1.,  0.,  1.,  1.,  0.,  0.,  0.,  1.,  1.,  1.,  1.,  0.,\n",
      "         1.,  1.,  1.,  1.,  1.,  0.,  0.,  0.,  0.,  0.,  0.,  1.,\n",
      "         1.,  1.,  1.,  1.,  0.,  0.,  1.,  1.,  0.,  0.,  0.,  0.,\n",
      "         1.,  1.,  0.,  0.,  1.,  1.,  0.,  1.,  0.,  1.,  1.,  0.,\n",
      "         1.,  0.,  1.,  1.,  0.,  0.,  0.,  1.,  0.,  1.,  1.,  1.,\n",
      "         0.,  1.,  0.,  0.,  0.,  1.,  1.,  1.,  0.,  0.,  1.,  0.,\n",
      "         0.,  1.,  0.,  0.,  1.,  0.,  1.,  1.]))\n"
     ]
    }
   ],
   "source": [
    "for i,(img, label) in enumerate(test_loader):\n",
    "    print(img.size(),label)\n",
    "    break"
   ]
  },
  {
   "cell_type": "code",
   "execution_count": 11,
   "metadata": {},
   "outputs": [],
   "source": [
    "def build_model():\n",
    "    net = LeNet(n_out=1)\n",
    "\n",
    "    if torch.cuda.is_available():\n",
    "        net.cuda()\n",
    "        torch.backends.cudnn.benchmark=True\n",
    "\n",
    "    opt = torch.optim.SGD(net.params(),lr=hyperparameters[\"lr\"])\n",
    "    \n",
    "    return net, opt"
   ]
  },
  {
   "cell_type": "markdown",
   "metadata": {},
   "source": [
    "## Baseline Model\n",
    "I trained a LeNet model for the MNIST data without weighting the loss as a baseline model for comparison."
   ]
  },
  {
   "cell_type": "code",
   "execution_count": null,
   "metadata": {},
   "outputs": [],
   "source": [
    "net, opt = build_model()\n",
    "\n",
    "net_losses = []\n",
    "plot_step = 100\n",
    "net_l = 0\n",
    "\n",
    "smoothing_alpha = 0.9\n",
    "accuracy_log = []\n",
    "for i in tqdm(range(hyperparameters['num_iterations'])):\n",
    "    net.train()\n",
    "    image, labels = next(iter(data_loader))\n",
    "\n",
    "    image = to_var(image, requires_grad=False)\n",
    "    labels = to_var(labels, requires_grad=False)\n",
    "\n",
    "    y = net(image)\n",
    "    cost = F.binary_cross_entropy_with_logits(y, labels)\n",
    "    \n",
    "    opt.zero_grad()\n",
    "    cost.backward()\n",
    "    opt.step()\n",
    "    \n",
    "    net_l = smoothing_alpha *net_l + (1 - smoothing_alpha)* cost.item()\n",
    "    net_losses.append(net_l/(1 - smoothing_alpha**(i+1)))\n",
    "    \n",
    "    if i % plot_step == 0:\n",
    "        net.eval()\n",
    "        \n",
    "        acc = []\n",
    "        for itr,(test_img, test_label) in enumerate(test_loader):\n",
    "            test_img = to_var(test_img, requires_grad=False)\n",
    "            test_label = to_var(test_label, requires_grad=False)\n",
    "            \n",
    "            output = net(test_img)\n",
    "            predicted = (F.sigmoid(output) > 0.5).int()\n",
    "            \n",
    "            acc.append((predicted.int() == test_label.int()).float())\n",
    "\n",
    "        accuracy = torch.cat(acc,dim=0).mean()\n",
    "        accuracy_log.append(np.array([i,accuracy])[None])\n",
    "        \n",
    "        \n",
    "        IPython.display.clear_output()\n",
    "        fig, axes = plt.subplots(1, 2, figsize=(13,5))\n",
    "        ax1, ax2 = axes.ravel()\n",
    "\n",
    "        ax1.plot(net_losses, label='net_losses')\n",
    "        ax1.set_ylabel(\"Losses\")\n",
    "        ax1.set_xlabel(\"Iteration\")\n",
    "        ax1.legend()\n",
    "        \n",
    "        acc_log = np.concatenate(accuracy_log, axis=0)\n",
    "        ax2.plot(acc_log[:,0],acc_log[:,1])\n",
    "        ax2.set_ylabel('Accuracy')\n",
    "        ax2.set_xlabel('Iteration')\n",
    "        plt.show()"
   ]
  },
  {
   "cell_type": "markdown",
   "metadata": {},
   "source": [
    "As expected, due to the heavily imbalanced training data, the network could not learn how to differentiate between 9 and 4."
   ]
  },
  {
   "cell_type": "markdown",
   "metadata": {},
   "source": [
    "## Learning to Reweight Examples \n",
    "Below is a pseudocode of the method proposed in the paper. It is very straightforward."
   ]
  },
  {
   "cell_type": "markdown",
   "metadata": {},
   "source": [
    "<img src=\"pseudocode.PNG\" width=\"300\" />\n",
    "\n"
   ]
  },
  {
   "cell_type": "code",
   "execution_count": 12,
   "metadata": {
    "pixiedust": {
     "displayParams": {}
    }
   },
   "outputs": [],
   "source": [
    "def train_lre():\n",
    "    net, opt = build_model()\n",
    "    \n",
    "    meta_losses_clean = []\n",
    "    net_losses = []\n",
    "    plot_step = 100\n",
    "\n",
    "    smoothing_alpha = 0.9\n",
    "    \n",
    "    meta_l = 0\n",
    "    net_l = 0\n",
    "    accuracy_log = []\n",
    "    for i in tqdm(range(hyperparameters['num_iterations'])):\n",
    "        net.train()\n",
    "        # Line 2 get batch of data\n",
    "        image, labels = next(iter(data_loader))\n",
    "        # since validation data is small I just fixed them instead of building an iterator\n",
    "        # initialize a dummy network for the meta learning of the weights\n",
    "        meta_net = LeNet(n_out=1)\n",
    "        meta_net.load_state_dict(net.state_dict())\n",
    "\n",
    "        if torch.cuda.is_available():\n",
    "            meta_net.cuda()\n",
    "\n",
    "        image = to_var(image, requires_grad=False)\n",
    "        labels = to_var(labels, requires_grad=False)\n",
    "\n",
    "        # Lines 4 - 5 initial forward pass to compute the initial weighted loss\n",
    "        y_f_hat  = meta_net(image)\n",
    "        cost = F.binary_cross_entropy_with_logits(y_f_hat,labels, reduce=False)\n",
    "        eps = to_var(torch.zeros(cost.size()))\n",
    "        l_f_meta = torch.sum(cost * eps)\n",
    "\n",
    "        meta_net.zero_grad()\n",
    "        \n",
    "        # Line 6 perform a parameter update\n",
    "        grads = torch.autograd.grad(l_f_meta, (meta_net.params()), create_graph=True)\n",
    "        meta_net.update_params(hyperparameters['lr'], source_params=grads)\n",
    "        \n",
    "        # Line 8 - 10 2nd forward pass and getting the gradients with respect to epsilon\n",
    "        y_g_hat = meta_net(val_data)\n",
    "\n",
    "        l_g_meta = F.binary_cross_entropy_with_logits(y_g_hat,val_labels)\n",
    "\n",
    "        grad_eps = torch.autograd.grad(l_g_meta, eps, only_inputs=True)[0]\n",
    "        \n",
    "        # Line 11 computing and normalizing the weights\n",
    "        w_tilde = torch.clamp(-grad_eps,min=0)\n",
    "        norm_c = torch.sum(w_tilde)\n",
    "\n",
    "        if norm_c != 0:\n",
    "            w = w_tilde / norm_c\n",
    "        else:\n",
    "            w = w_tilde\n",
    "\n",
    "        # Lines 12 - 14 computing for the loss with the computed weights\n",
    "        # and then perform a parameter update\n",
    "        y_f_hat = net(image)\n",
    "        cost = F.binary_cross_entropy_with_logits(y_f_hat, labels, reduce=False)\n",
    "        l_f = torch.sum(cost * w)\n",
    "\n",
    "        opt.zero_grad()\n",
    "        l_f.backward()\n",
    "        opt.step()\n",
    "\n",
    "        meta_l = smoothing_alpha *meta_l + (1 - smoothing_alpha)* l_g_meta.item()\n",
    "        meta_losses_clean.append(meta_l/(1 - smoothing_alpha**(i+1)))\n",
    "\n",
    "        net_l = smoothing_alpha *net_l + (1 - smoothing_alpha)* l_f.item()\n",
    "        net_losses.append(net_l/(1 - smoothing_alpha**(i+1)))\n",
    "\n",
    "        if i % plot_step == 0:\n",
    "            net.eval()\n",
    "\n",
    "            acc = []\n",
    "            for itr,(test_img, test_label) in enumerate(test_loader):\n",
    "                test_img = to_var(test_img, requires_grad=False)\n",
    "                test_label = to_var(test_label, requires_grad=False)\n",
    "\n",
    "                output = net(test_img)\n",
    "                predicted = (F.sigmoid(output) > 0.5).int()\n",
    "\n",
    "                acc.append((predicted.int() == test_label.int()).float())\n",
    "\n",
    "            accuracy = torch.cat(acc,dim=0).mean()\n",
    "            accuracy_log.append(np.array([i,accuracy])[None])\n",
    "\n",
    "\n",
    "            IPython.display.clear_output()\n",
    "            fig, axes = plt.subplots(1, 2, figsize=(13,5))\n",
    "            ax1, ax2 = axes.ravel()\n",
    "\n",
    "            ax1.plot(meta_losses_clean, label='meta_losses_clean')\n",
    "            ax1.plot(net_losses, label='net_losses')\n",
    "            ax1.set_ylabel(\"Losses\")\n",
    "            ax1.set_xlabel(\"Iteration\")\n",
    "            ax1.legend()\n",
    "\n",
    "            acc_log = np.concatenate(accuracy_log, axis=0)\n",
    "            ax2.plot(acc_log[:,0],acc_log[:,1])\n",
    "            ax2.set_ylabel('Accuracy')\n",
    "            ax2.set_xlabel('Iteration')\n",
    "            plt.show()\n",
    "            \n",
    "        # return accuracy\n",
    "    return np.mean(acc_log[-6:-1, 1])"
   ]
  },
  {
   "cell_type": "markdown",
   "metadata": {},
   "source": [
    "To get an idea of how robust this method is with respect to the proportion of the dominant class, I varied the proportion from 0.9 to 0.995 and perform 5 runs for each. "
   ]
  },
  {
   "cell_type": "code",
   "execution_count": null,
   "metadata": {
    "pixiedust": {
     "displayParams": {}
    }
   },
   "outputs": [
    {
     "data": {
      "image/png": "[encoded data removed]",
      "text/plain": [
       "<matplotlib.figure.Figure at 0x1a1d7fc9d0>"
      ]
     },
     "metadata": {},
     "output_type": "display_data"
    }
   ],
   "source": [
    "# %%pixie_debugger\n",
    "num_repeats = 5\n",
    "proportions = [0.95]\n",
    "accuracy_log = {}\n",
    "\n",
    "for prop in proportions:\n",
    "    data_loader = get_mnist_loader(hyperparameters['batch_size'], classes=[9, 4], proportion=prop, mode=\"train\")\n",
    "    val_data = to_var(data_loader.dataset.data_val, requires_grad=False)\n",
    "    val_labels = to_var(data_loader.dataset.labels_val, requires_grad=False)\n",
    "    \n",
    "    for k in range(num_repeats):\n",
    "        accuracy = train_lre()\n",
    "        \n",
    "        if prop in accuracy_log:\n",
    "            accuracy_log[prop].append(accuracy)\n",
    "        else:\n",
    "            accuracy_log[prop] = [accuracy]\n",
    "\n",
    "plt.figure(figsize=(10,8))\n",
    "for prop in proportions:\n",
    "    accuracies = accuracy_log[prop]\n",
    "    plt.scatter([prop] * len(accuracies), accuracies)\n",
    "\n",
    "# plot the trend line with error bars that correspond to standard deviation\n",
    "accuracies_mean = np.array([np.mean(v) for k,v in sorted(accuracy_log.items())])\n",
    "accuracies_std = np.array([np.std(v) for k,v in sorted(accuracy_log.items())])\n",
    "plt.errorbar(proportions, accuracies_mean, yerr=accuracies_std)\n",
    "plt.title('Performance on varying class proportions')\n",
    "plt.xlabel('proportions')\n",
    "plt.ylabel('Accuracy')\n",
    "plt.show()"
   ]
  },
  {
   "cell_type": "markdown",
   "metadata": {},
   "source": [
    "We can see that even at 0.995 proportion of the dominant class in the training data, the model still reaches 90+% accuracy on the balanced test data."
   ]
  },
  {
   "cell_type": "code",
   "execution_count": null,
   "metadata": {},
   "outputs": [],
   "source": [
    "accuracy_log"
   ]
  },
  {
   "cell_type": "code",
   "execution_count": null,
   "metadata": {},
   "outputs": [],
   "source": []
  }
 ],
 "metadata": {
  "kernelspec": {
   "display_name": "Python 2",
   "language": "python",
   "name": "python2"
  },
  "language_info": {
   "codemirror_mode": {
    "name": "ipython",
    "version": 2
   },
   "file_extension": ".py",
   "mimetype": "text/x-python",
   "name": "python",
   "nbconvert_exporter": "python",
   "pygments_lexer": "ipython2",
   "version": "2.7.15"
  }
 },
 "nbformat": 4,
 "nbformat_minor": 2
}
